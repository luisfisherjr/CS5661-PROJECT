{
 "cells": [
  {
   "cell_type": "code",
   "execution_count": 1,
   "metadata": {},
   "outputs": [
    {
     "name": "stderr",
     "output_type": "stream",
     "text": [
      "/home/luis/anaconda3/envs/tf-source-keras/lib/python3.6/site-packages/h5py/__init__.py:36: FutureWarning: Conversion of the second argument of issubdtype from `float` to `np.floating` is deprecated. In future, it will be treated as `np.float64 == np.dtype(float).type`.\n",
      "  from ._conv import register_converters as _register_converters\n",
      "Using TensorFlow backend.\n"
     ]
    }
   ],
   "source": [
    "from math import sqrt\n",
    "\n",
    "import numpy as np\n",
    "import pandas as pd\n",
    "\n",
    "from sklearn.metrics import mean_squared_error, confusion_matrix, accuracy_score\n",
    "from sklearn.preprocessing import MinMaxScaler, StandardScaler\n",
    "from sklearn.decomposition import PCA\n",
    "\n",
    "from sklearn.ensemble import AdaBoostClassifier\n",
    "from sklearn.model_selection import cross_val_score, GridSearchCV, StratifiedKFold\n",
    "\n",
    "import keras\n",
    "from keras import models, layers, callbacks, constraints, backend, activations\n",
    "from keras.models import model_from_json\n",
    "\n",
    "\n",
    "from matplotlib import pyplot\n",
    "import matplotlib.patches as mpatches\n",
    "\n",
    "import datetime\n",
    "import pathlib\n",
    "import time\n",
    "import json\n",
    "import sys\n",
    "import os\n",
    "\n",
    "%matplotlib inline\n",
    "pd.options.display.max_columns = None"
   ]
  },
  {
   "cell_type": "code",
   "execution_count": 2,
   "metadata": {
    "collapsed": true
   },
   "outputs": [],
   "source": [
    "def string_time(start, end):\n",
    "    total = end - start\n",
    "    hour = 60 * 60\n",
    "    minute = 60\n",
    "    \n",
    "    num = total\n",
    "    rem = num % hour\n",
    "    \n",
    "    hours = (num - rem) / hour\n",
    "\n",
    "    num = rem\n",
    "    rem = num % minute\n",
    "\n",
    "    minutes = (num - rem) / minute\n",
    "    \n",
    "    return '{:.0f}:{:.0f}:{:.0f}'.format(hours, minutes, rem)"
   ]
  },
  {
   "cell_type": "code",
   "execution_count": 3,
   "metadata": {
    "collapsed": true
   },
   "outputs": [],
   "source": [
    "# scale train and test data to [-1, 1]\n",
    "def scale(train, test):\n",
    "    # fit scaler\n",
    "    scaler = MinMaxScaler(feature_range=(-1, 1))\n",
    "    scaler = scaler.fit(train)\n",
    "\n",
    "    # transform train\n",
    "    train_scaled = scaler.transform(train)\n",
    "    # transform test\n",
    "    test_scaled = scaler.transform(test)\n",
    "\n",
    "    return scaler, train_scaled, test_scaled"
   ]
  },
  {
   "cell_type": "code",
   "execution_count": 4,
   "metadata": {
    "collapsed": true
   },
   "outputs": [],
   "source": [
    "# inverse scaling for a forecasted value\n",
    "def invert_scale(scaler, X, y):\n",
    "    \n",
    "    # combine data back into single matrix for scaling\n",
    "    features_and_labels_scaled = np.append(X, y, axis=1)\n",
    "    features_and_labels = scaler.inverse_transform(features_and_labels_scaled)\n",
    "    \n",
    "    return features_and_labels"
   ]
  },
  {
   "cell_type": "code",
   "execution_count": 5,
   "metadata": {
    "collapsed": true
   },
   "outputs": [],
   "source": [
    "# create and ann_model to be used with sklearn wrapper\n",
    "def ann_model(\n",
    "    features = 1,\n",
    "    output_size = 1,\n",
    "    batch_size = 1,\n",
    "    hidden_layers = [{'neurons': 50, 'dropout': 0.1 }],\n",
    "    activation = ['relu', 'softmax'],\n",
    "    optimizer = 'adam',\n",
    "    loss = 'categorical_crossentropy',\n",
    "    noise = (False, 0.07),\n",
    "    metrics = ['accuracy']\n",
    "):\n",
    "              \n",
    "    # create sequenital model\n",
    "    \n",
    "    inputs = layers.Input(shape=(features,))\n",
    "    \n",
    "    count = 1\n",
    "    x = None\n",
    "    previous = inputs\n",
    "    \n",
    "    # makes every hidden layer\n",
    "    for i in range(len(hidden_layers)):\n",
    "\n",
    "        layer = hidden_layers[i]\n",
    "        \n",
    "        if noise[0]:\n",
    "            \n",
    "            x = layers.GaussianNoise(noise[1])(previous)\n",
    "            previous = x\n",
    "\n",
    "        x = layers.Dense(\n",
    "            units = layer['neurons'],\n",
    "            activation = activation[0],\n",
    "            name='ANN_hidden_layer_{}'.format(i + 1)\n",
    "        )(previous)\n",
    "        \n",
    "        x = layers.Dropout(\n",
    "            rate = layer['dropout']\n",
    "        )(x)\n",
    "        previous = x\n",
    "           \n",
    "    # makes output layer\n",
    "    outputs = layers.Dense(\n",
    "        units = output_size,\n",
    "        activation = activation[1],\n",
    "        name = 'output_layer',\n",
    "    )(previous)\n",
    "    \n",
    "    model = models.Model(\n",
    "        inputs = inputs, \n",
    "        outputs = outputs\n",
    "    )\n",
    "      \n",
    "    model.compile(\n",
    "        loss = loss,\n",
    "        optimizer = optimizer,\n",
    "#         metrics = metrics,\n",
    "        metrics=[\"accuracy\"],\n",
    "    )\n",
    "\n",
    "    return model"
   ]
  },
  {
   "cell_type": "code",
   "execution_count": 6,
   "metadata": {
    "collapsed": true
   },
   "outputs": [],
   "source": [
    "def ensembleModels(models, model_input):\n",
    "    # collect outputs of models in a list\n",
    "    yModels = [model(model_input) for model in models] \n",
    "\n",
    "    add_layer = layers.Average()(yModels)\n",
    "\n",
    "\n",
    "    # build model from same input and avg output\n",
    "    modelEns = layers.Model(inputs=model_input, outputs= add_layer,    name='ensemble')  \n",
    "   \n",
    "    return modelEns"
   ]
  }
 ],
 "metadata": {
  "kernelspec": {
   "display_name": "Python [conda env:tf-source-keras]",
   "language": "python",
   "name": "conda-env-tf-source-keras-py"
  },
  "language_info": {
   "codemirror_mode": {
    "name": "ipython",
    "version": 3
   },
   "file_extension": ".py",
   "mimetype": "text/x-python",
   "name": "python",
   "nbconvert_exporter": "python",
   "pygments_lexer": "ipython3",
   "version": "3.6.4"
  }
 },
 "nbformat": 4,
 "nbformat_minor": 2
}
